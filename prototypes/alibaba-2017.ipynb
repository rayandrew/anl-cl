{
 "cells": [
  {
   "cell_type": "code",
   "execution_count": 1,
   "id": "554777f5-fd19-46bb-81ad-20e6941a970b",
   "metadata": {},
   "outputs": [],
   "source": [
    "import pandas as pd\n",
    "import matplotlib.pyplot as plt\n",
    "import seaborn as sns"
   ]
  },
  {
   "cell_type": "code",
   "execution_count": 2,
   "id": "5cb1d8ce-892e-40e4-8a29-5f25ab485ea9",
   "metadata": {},
   "outputs": [],
   "source": [
    "df = pd.read_parquet(\"../raw_data/alibaba/container.parquet\", engine=\"fastparquet\")\n",
    "df = df.sort_values(by=[\"time_stamp\"]).reset_index(drop=True)\n",
    "df = df[df['plan_cpu'].notna() & df['plan_mem'].notna() & (df.cpu_util_percent > 0) & (df.cpu_util_percent <= 100)]\n",
    "df = df.reset_index(drop=True)\n",
    "df[\"x\"] = df.index"
   ]
  },
  {
   "cell_type": "code",
   "execution_count": null,
   "id": "9dc4c6bc-6738-4d44-9046-09506035be32",
   "metadata": {},
   "outputs": [],
   "source": []
  },
  {
   "cell_type": "code",
   "execution_count": 3,
   "id": "6a35b861-1c47-49a3-a3d6-339848f1f278",
   "metadata": {},
   "outputs": [
    {
     "data": {
      "text/plain": [
       "Index(['time_stamp', 'instance_id', 'cpu_util_percent', 'mem_util_percent',\n",
       "       'disk_util_percent', 'avg_cpu_1_min', 'avg_cpu_5_min', 'avg_cpu_15_min',\n",
       "       'avg_cpi', 'avg_cache_miss', 'max_cpi', 'max_cache_miss', 'event_type',\n",
       "       'machine_id', 'plan_cpu', 'plan_mem', 'plan_disk', 'cpu_set', 'x'],\n",
       "      dtype='object')"
      ]
     },
     "execution_count": 3,
     "metadata": {},
     "output_type": "execute_result"
    }
   ],
   "source": [
    "df.columns"
   ]
  },
  {
   "cell_type": "code",
   "execution_count": null,
   "id": "c584abca-2a2a-4222-bc87-edd470e56fd4",
   "metadata": {},
   "outputs": [],
   "source": [
    "\n",
    "df[:100].cpu_util_percent.plot(figsize=(12,4))\n",
    "# df[:100].plot.scatter(x=\"x\", y=\"cpu_util_percent\", figsize=(12,4))"
   ]
  },
  {
   "cell_type": "code",
   "execution_count": null,
   "id": "1131848c-e6d0-474e-977c-ff5a3efd5cb5",
   "metadata": {},
   "outputs": [],
   "source": [
    "df.cpu_util_percent.plot(figsize=(12,4))"
   ]
  },
  {
   "cell_type": "code",
   "execution_count": null,
   "id": "c52c6426-c07c-483c-9438-b53a7c83fb0f",
   "metadata": {},
   "outputs": [],
   "source": [
    "# df.cpu_util_percent.plot(figsize=(12,4))\n",
    "df.plot.scatter(x=\"x\", y=\"cpu_util_percent\", figsize=(12,4))"
   ]
  },
  {
   "cell_type": "code",
   "execution_count": null,
   "id": "142bfdf6-8fad-4030-8302-d14e1519040b",
   "metadata": {},
   "outputs": [],
   "source": [
    "df.avg_cpu_1_min.plot(figsize=(12,4))"
   ]
  },
  {
   "cell_type": "code",
   "execution_count": null,
   "id": "08fb85e7-f3b5-4b96-a61b-7a2ab8559145",
   "metadata": {},
   "outputs": [],
   "source": [
    "df.avg_cpu_5_min.plot(figsize=(12,4))"
   ]
  },
  {
   "cell_type": "code",
   "execution_count": null,
   "id": "13facfd4-296b-410f-8573-3e81bcc5815f",
   "metadata": {},
   "outputs": [],
   "source": [
    "df.avg_cpu_15_min.plot(figsize=(12,4))"
   ]
  },
  {
   "cell_type": "code",
   "execution_count": null,
   "id": "ad2c122e-929f-42c0-9a49-88252bee118c",
   "metadata": {},
   "outputs": [],
   "source": [
    "# df_2018 = pd.read_parquet(\"../raw_data/alibaba-2018/chunk-0.parquet\", engine=\"fastparquet\")\n",
    "# df_2018 = df_2018.sort_values(by=[\"instance_start_time\"]).reset_index(drop=True)\n",
    "# df_2018 = df_2018[(df_2018.cpu_max > 0) & (df_2018.cpu_avg > 0)]\n",
    "# df_2018 = df_2018.reset_index(drop=True)\n",
    "# df_2018[\"x\"] = df_2018.index\n",
    "# df_2018[\"percent_max\"] = (df_2018[\"cpu_max\"] / df_2018[\"plan_cpu\"]) * 100\n",
    "# df_2018[\"percent_avg\"] = (df_2018[\"cpu_avg\"] / df_2018[\"plan_cpu\"]) * 100"
   ]
  },
  {
   "cell_type": "code",
   "execution_count": null,
   "id": "d9074fe0-ea1c-4e58-ab5a-e7d8628f72f5",
   "metadata": {},
   "outputs": [],
   "source": [
    "# df_2018.columns"
   ]
  },
  {
   "cell_type": "code",
   "execution_count": null,
   "id": "f685be03-85da-40ca-834e-70f944beafe7",
   "metadata": {},
   "outputs": [],
   "source": [
    "# len(df_2018[df_2018.percent_avg > 100]), len(df_2018[df_2018.percent_avg <= 100]), len(df_2018)"
   ]
  },
  {
   "cell_type": "code",
   "execution_count": null,
   "id": "67e29870-ce4f-41a3-80dc-c5878f4cdba5",
   "metadata": {},
   "outputs": [],
   "source": [
    "# len(df_2018[df_2018.percent_max > 100]), len(df_2018[df_2018.percent_max <= 100]), len(df_2018)"
   ]
  },
  {
   "cell_type": "code",
   "execution_count": null,
   "id": "6db96047-47b1-4bac-99e8-f71b11455749",
   "metadata": {},
   "outputs": [],
   "source": [
    "# list(df_2018.percent_max.unique())"
   ]
  },
  {
   "cell_type": "code",
   "execution_count": null,
   "id": "bcd465e0-8617-4e8d-b147-42ee9ca02b36",
   "metadata": {},
   "outputs": [],
   "source": [
    "# df_2018.percent_avg.unique()"
   ]
  },
  {
   "cell_type": "code",
   "execution_count": null,
   "id": "0c254918-3986-41b6-8c41-d86577c5b81e",
   "metadata": {},
   "outputs": [],
   "source": [
    "# df_2018.percent_max.plot()"
   ]
  },
  {
   "cell_type": "code",
   "execution_count": null,
   "id": "5eb4dddc-630e-4600-a095-a0377b0faac1",
   "metadata": {},
   "outputs": [],
   "source": [
    "# df_2018.percent_avg.plot()"
   ]
  },
  {
   "cell_type": "code",
   "execution_count": 8,
   "id": "1f108537-e48d-42f0-89b0-079d8a35e256",
   "metadata": {},
   "outputs": [
    {
     "data": {
      "text/plain": [
       "array([ 83,  29,  27,  11,  71,  36,  95,  55,  96,   8,  94,  21,  85,\n",
       "        46,  38,   2,   4,   0,  76,  51,  62,  10,  92,  60,  63,  97,\n",
       "        93,  73,  90,  15,  64,  53,   3,  65,  47,  45,  19,   6,  61,\n",
       "        79,   5,  16,  88, 102,  39,  74,  68,  44,  81,   7,  17,  78,\n",
       "        86,  32,  22,  77,  28,  50,  91,  72,  98,  37,  56,  49,  23,\n",
       "        59,  26,  67,  40,  12,  87,  13,  25,  69,  34,  82,  75,  20,\n",
       "        42,  18, 101,  57,   1,  30,  99,  43,  35,  48,  24,  89,  54,\n",
       "        66,  41,  14,  80,  31,   9,  70,  33, 100,  52,  58,  84],\n",
       "      dtype=int8)"
      ]
     },
     "execution_count": 8,
     "metadata": {},
     "output_type": "execute_result"
    }
   ],
   "source": [
    "df.cpu_set.astype(\"category\").cat.codes.unique()"
   ]
  },
  {
   "cell_type": "code",
   "execution_count": 14,
   "id": "02a65896-9eec-4e1d-a725-17127a3d67a8",
   "metadata": {},
   "outputs": [
    {
     "data": {
      "text/plain": [
       "0           4\n",
       "1           8\n",
       "2           4\n",
       "3          16\n",
       "4           4\n",
       "           ..\n",
       "1458050     4\n",
       "1458051     8\n",
       "1458052    16\n",
       "1458053     4\n",
       "1458054     4\n",
       "Name: cpu_set, Length: 1458055, dtype: int64"
      ]
     },
     "execution_count": 14,
     "metadata": {},
     "output_type": "execute_result"
    }
   ],
   "source": [
    "df['cpu_set'].str.split('|').str.len()"
   ]
  },
  {
   "cell_type": "code",
   "execution_count": null,
   "id": "d3c28a60-d65c-45d8-90c3-8a5afbf35171",
   "metadata": {},
   "outputs": [],
   "source": []
  }
 ],
 "metadata": {
  "kernelspec": {
   "display_name": "Python 3 (ipykernel)",
   "language": "python",
   "name": "python3"
  },
  "language_info": {
   "codemirror_mode": {
    "name": "ipython",
    "version": 3
   },
   "file_extension": ".py",
   "mimetype": "text/x-python",
   "name": "python",
   "nbconvert_exporter": "python",
   "pygments_lexer": "ipython3",
   "version": "3.10.10"
  }
 },
 "nbformat": 4,
 "nbformat_minor": 5
}
