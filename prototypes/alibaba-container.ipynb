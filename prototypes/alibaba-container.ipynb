{
 "cells": [
  {
   "cell_type": "code",
   "execution_count": null,
   "metadata": {},
   "outputs": [],
   "source": [
    "import pandas as pd\n",
    "import dask.dataframe as dd\n",
    "from pathlib import Path"
   ]
  },
  {
   "cell_type": "code",
   "execution_count": null,
   "metadata": {},
   "outputs": [],
   "source": [
    "df = dd.read_csv(\"/lcrc/project/FastBayes/rayandrew/alibaba-data/container_usage_splitted/container_usage.aa\", names=[\n",
    "    \"container_id\",\n",
    "    \"machine_id\",\n",
    "    \"time_stamp\",\n",
    "    \"cpu_util_percent\",\n",
    "    \"mem_util_percent\",\n",
    "    \"cpi\",\n",
    "    \"mem_gps\",\n",
    "    \"mpki\",\n",
    "    \"net_in\",\n",
    "    \"net_out\",\n",
    "    \"disk_io_percent\"\n",
    "], dtype={'container_id': 'string',\n",
    "       'disk_io_percent': 'float64',\n",
    "       'cpu_util_percent': 'float64',\n",
    "       'net_in': 'float64',\n",
    "       'net_out': 'float64'}\n",
    ")"
   ]
  },
  {
   "cell_type": "code",
   "execution_count": null,
   "metadata": {},
   "outputs": [],
   "source": [
    "# df[df.container_id != \"<NA>\"].head()\n",
    "df = df[df.container_id != \"<NA>\"].reset_index(drop=True)\n",
    "# df[df.container_id == \"c_1\"].head()"
   ]
  },
  {
   "cell_type": "code",
   "execution_count": null,
   "metadata": {},
   "outputs": [],
   "source": [
    "df.head()"
   ]
  },
  {
   "cell_type": "code",
   "execution_count": null,
   "metadata": {},
   "outputs": [],
   "source": [
    "df[df.container_id == \"c_1\"].time_stamp.unique().compute()"
   ]
  },
  {
   "cell_type": "code",
   "execution_count": null,
   "metadata": {},
   "outputs": [],
   "source": [
    "container_meta_df = dd.read_csv(\"/lcrc/project/FastBayes/rayandrew/alibaba-data/container_meta.csv\", names=[\n",
    "    \"container_id\",\n",
    "    \"machine_id\",\n",
    "    \"time_stamp\",\n",
    "    \"app_du\",\n",
    "    \"status\",\n",
    "    \"cpu_request\",\n",
    "    \"cpu_limit\",\n",
    "    \"mem_size\"\n",
    "])"
   ]
  },
  {
   "cell_type": "code",
   "execution_count": null,
   "metadata": {},
   "outputs": [],
   "source": [
    "container_meta_df.head()"
   ]
  },
  {
   "cell_type": "code",
   "execution_count": null,
   "metadata": {},
   "outputs": [],
   "source": [
    "for i in range(1001, 2000):\n",
    "    test_df = container_meta_df[container_meta_df.container_id == f\"c_{i}\"]\n",
    "    # test_df['matching'] = df.apply(lambda x: x.col1 == x.col3 == x.col4, axis=1)\n",
    "    if test_df.cpu_request.unique().compute().size > 1:\n",
    "        print(test_df.cpu_request.unique().compute())\n",
    "        test_df.head(n=100)\n",
    "        break\n",
    "    # print(test_df.cpu_request.unique().compute())"
   ]
  },
  {
   "cell_type": "code",
   "execution_count": null,
   "metadata": {},
   "outputs": [],
   "source": []
  }
 ],
 "metadata": {
  "kernelspec": {
   "display_name": "Python 3 (ipykernel)",
   "language": "python",
   "name": "python3"
  },
  "language_info": {
   "codemirror_mode": {
    "name": "ipython",
    "version": 3
   },
   "file_extension": ".py",
   "mimetype": "text/x-python",
   "name": "python",
   "nbconvert_exporter": "python",
   "pygments_lexer": "ipython3",
   "version": "3.10.10"
  }
 },
 "nbformat": 4,
 "nbformat_minor": 4
}
