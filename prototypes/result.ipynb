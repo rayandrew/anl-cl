{
 "cells": [
  {
   "cell_type": "code",
   "execution_count": 2,
   "id": "6b9e60bc-56a9-415c-bf3b-1a7e06261e68",
   "metadata": {},
   "outputs": [],
   "source": [
    "import sys\n",
    "import numpy as np\n",
    "import pandas as pd\n",
    "from pathlib import Path\n",
    "sys.path.insert(0, \"/lcrc/project/FastBayes/rayandrew/sched-cl\")\n",
    "\n",
    "import src.utils.summary as s"
   ]
  },
  {
   "cell_type": "code",
   "execution_count": 16,
   "id": "bc99c506-85ed-43ad-b93b-2ef0323a7d30",
   "metadata": {},
   "outputs": [],
   "source": [
    "filepath = Path(\"../out/training/alibaba/chunk-0/classification/online/split-chunks/no-retrain/train_results.json\")"
   ]
  },
  {
   "cell_type": "code",
   "execution_count": 17,
   "id": "18fdb8d3-dbe7-49d2-8b17-cd2d7237d726",
   "metadata": {},
   "outputs": [],
   "source": [
    "summ = s.generate_summary(filepath)"
   ]
  },
  {
   "cell_type": "code",
   "execution_count": 18,
   "id": "f76ba19a-a458-4e40-aa3a-c0ff1f6a6bf9",
   "metadata": {},
   "outputs": [
    {
     "data": {
      "text/plain": [
       "TrainingSummary(n_tasks=1, ovr_avg_acc=0.6035301765088255, ovr_avg_forgetting=0.0, ovr_avg_bwt=0.0, avg_acc=[0.6035301765088255], avg_forgetting=[0.0], avg_bwt=[0.0], task_data={0: TaskSummary(task_id=0, acc=[0.8092], forgetting=[], bwt=[]), 1: TaskSummary(task_id=1, acc=[0.8836], forgetting=[], bwt=[]), 2: TaskSummary(task_id=2, acc=[0.9744], forgetting=[], bwt=[]), 3: TaskSummary(task_id=3, acc=[0.22769107643057224], forgetting=[], bwt=[]), 4: TaskSummary(task_id=4, acc=[0.7836], forgetting=[], bwt=[]), 5: TaskSummary(task_id=5, acc=[0.4064], forgetting=[], bwt=[]), 6: TaskSummary(task_id=6, acc=[0.33], forgetting=[], bwt=[]), 7: TaskSummary(task_id=7, acc=[0.4132], forgetting=[], bwt=[])}, avg_f1=[0.17828035945827259], avg_precision=[0.15110759493670886], avg_recall=[0.24960443037974683], avg_auroc=[0.3030445969728399])"
      ]
     },
     "execution_count": 18,
     "metadata": {},
     "output_type": "execute_result"
    }
   ],
   "source": [
    "summ"
   ]
  },
  {
   "cell_type": "code",
   "execution_count": 19,
   "id": "e0c1d9a2-12ca-4863-a473-5635fb9547d9",
   "metadata": {},
   "outputs": [
    {
     "data": {
      "text/plain": [
       "([0.6035301765088255], 0.6035301765088255, 0.6035301765088255, 0.0)"
      ]
     },
     "execution_count": 19,
     "metadata": {},
     "output_type": "execute_result"
    }
   ],
   "source": [
    "# summ.avg_acc, np.sum(summ.avg_acc) / len(summ.avg_acc), summ.ovr_avg_acc, summ.ovr_avg_forgetting"
   ]
  },
  {
   "cell_type": "code",
   "execution_count": 22,
   "id": "0a160c11-a420-4f1f-a845-9542983ee1ae",
   "metadata": {},
   "outputs": [
    {
     "data": {
      "text/plain": [
       "0.6035113845538216"
      ]
     },
     "execution_count": 22,
     "metadata": {},
     "output_type": "execute_result"
    }
   ],
   "source": [
    "acc = []\n",
    "for task in summ.task_data:\n",
    "    acc.append(summ.task_data[task].acc[0])\n",
    "np.mean(acc)"
   ]
  },
  {
   "cell_type": "code",
   "execution_count": 20,
   "id": "547de3cf-3ff9-44d8-af01-b409468d920b",
   "metadata": {},
   "outputs": [
    {
     "data": {
      "text/plain": [
       "[0.15110759493670886]"
      ]
     },
     "execution_count": 20,
     "metadata": {},
     "output_type": "execute_result"
    }
   ],
   "source": [
    "summ.avg_precision"
   ]
  },
  {
   "cell_type": "code",
   "execution_count": null,
   "id": "e5805d39-23b6-4517-b2a4-a5a0df1fc2c0",
   "metadata": {},
   "outputs": [],
   "source": []
  }
 ],
 "metadata": {
  "kernelspec": {
   "display_name": "Python 3 (ipykernel)",
   "language": "python",
   "name": "python3"
  },
  "language_info": {
   "codemirror_mode": {
    "name": "ipython",
    "version": 3
   },
   "file_extension": ".py",
   "mimetype": "text/x-python",
   "name": "python",
   "nbconvert_exporter": "python",
   "pygments_lexer": "ipython3",
   "version": "3.10.10"
  }
 },
 "nbformat": 4,
 "nbformat_minor": 5
}
