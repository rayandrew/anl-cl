{
 "cells": [
  {
   "cell_type": "code",
   "execution_count": 1,
   "id": "fc116a0b-7cd3-43de-9407-68b5c4fba0bd",
   "metadata": {},
   "outputs": [],
   "source": [
    "import sys\n",
    "import numpy as np\n",
    "import pandas as pd\n",
    "from sklearn.preprocessing import (\n",
    "    MinMaxScaler,\n",
    "    Normalizer,\n",
    "    StandardScaler,\n",
    "    minmax_scale\n",
    ")\n",
    "\n",
    "sys.path.insert(0, \"/lcrc/project/FastBayes/rayandrew/sched-cl\")\n",
    "\n",
    "import src.dataset.alibaba.scheduler as d"
   ]
  },
  {
   "cell_type": "code",
   "execution_count": 2,
   "id": "52b5a14a-3ecb-4e54-b4c9-308e82a02b35",
   "metadata": {},
   "outputs": [],
   "source": [
    "data = d.AlibabaSchedulerDatasetGenerator(filename=\"../raw_data/alibaba/chunk-0.parquet\", n_labels=4, n_historical=4)"
   ]
  },
  {
   "cell_type": "code",
   "execution_count": 3,
   "id": "ffbb1110-3f15-4c8e-a9ce-0b27c7fb6663",
   "metadata": {},
   "outputs": [
    {
     "data": {
      "text/plain": [
       "<src.dataset.alibaba.scheduler.AlibabaSchedulerDatasetGenerator at 0x145ecb7eefe0>"
      ]
     },
     "execution_count": 3,
     "metadata": {},
     "output_type": "execute_result"
    }
   ],
   "source": [
    "data"
   ]
  },
  {
   "cell_type": "code",
   "execution_count": null,
   "id": "1d962244-ccc7-494d-9af7-25ee4bdf7953",
   "metadata": {},
   "outputs": [],
   "source": []
  },
  {
   "cell_type": "code",
   "execution_count": 4,
   "id": "036e3a41-5d0d-48ad-a8eb-9aaf6dd9bf19",
   "metadata": {},
   "outputs": [],
   "source": [
    "\n",
    "# y = data.raw_data[data.y_var]\n",
    "# data.raw_data[\"c\"] = minmax_scale(y)\n",
    "# # data.raw_data[\"c\"] = MinMaxScaler([y.min(), y.max()]).fit_transform(\n",
    "# #    y.values.reshape(1, -1)\n",
    "# # )[0]\n",
    "# # data.raw_data[\"c\"] = y /y.abs().max()\n",
    "# data.raw_data[\"c\"].unique()"
   ]
  },
  {
   "cell_type": "code",
   "execution_count": null,
   "id": "4513fc69-532a-4534-97e3-ffe73f849013",
   "metadata": {},
   "outputs": [],
   "source": []
  },
  {
   "cell_type": "code",
   "execution_count": 5,
   "id": "7de90f52-755d-40ad-b758-ba9f696aaa8c",
   "metadata": {},
   "outputs": [
    {
     "data": {
      "text/plain": [
       "array([1, 2, 3, 0])"
      ]
     },
     "execution_count": 5,
     "metadata": {},
     "output_type": "execute_result"
    }
   ],
   "source": [
    "data.preprocessed_data[\"cpu_avg_pred\"].unique()"
   ]
  },
  {
   "cell_type": "code",
   "execution_count": 6,
   "id": "bf003fab-4795-4305-b4ae-ac8fa65e8bf4",
   "metadata": {},
   "outputs": [],
   "source": [
    "train, test = data()"
   ]
  },
  {
   "cell_type": "code",
   "execution_count": 7,
   "id": "fa6d8677-4adb-4167-b629-d86ba34466df",
   "metadata": {},
   "outputs": [
    {
     "data": {
      "text/plain": [
       "<src.dataset.alibaba.scheduler.AlibabaSchedulerDataset at 0x145fa76422c0>"
      ]
     },
     "execution_count": 7,
     "metadata": {},
     "output_type": "execute_result"
    }
   ],
   "source": [
    "train"
   ]
  },
  {
   "cell_type": "code",
   "execution_count": 11,
   "id": "6d773c7c-7723-4063-ba69-a5ffa225df3b",
   "metadata": {},
   "outputs": [
    {
     "data": {
      "text/plain": [
       "(array([1.045e+03, 1.000e+00, 5.000e+01, 4.900e-01, 5.000e+01, 5.000e+01,\n",
       "        5.000e+01, 5.000e+01, 4.900e-01, 4.900e-01, 4.900e-01, 4.900e-01,\n",
       "        1.045e+03, 1.045e+03, 1.045e+03, 1.045e+03], dtype=float32),\n",
       " 1)"
      ]
     },
     "execution_count": 11,
     "metadata": {},
     "output_type": "execute_result"
    }
   ],
   "source": [
    "train[3]"
   ]
  },
  {
   "cell_type": "code",
   "execution_count": null,
   "id": "78f5a7c1-843c-49db-9d24-c1376dd82dd9",
   "metadata": {},
   "outputs": [],
   "source": []
  }
 ],
 "metadata": {
  "kernelspec": {
   "display_name": "Python 3 (ipykernel)",
   "language": "python",
   "name": "python3"
  },
  "language_info": {
   "codemirror_mode": {
    "name": "ipython",
    "version": 3
   },
   "file_extension": ".py",
   "mimetype": "text/x-python",
   "name": "python",
   "nbconvert_exporter": "python",
   "pygments_lexer": "ipython3",
   "version": "3.10.10"
  }
 },
 "nbformat": 4,
 "nbformat_minor": 5
}
